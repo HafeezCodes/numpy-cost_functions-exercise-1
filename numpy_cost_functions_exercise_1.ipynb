{
  "nbformat": 4,
  "nbformat_minor": 0,
  "metadata": {
    "colab": {
      "provenance": [],
      "authorship_tag": "ABX9TyOY+jt29eBWnvHfO9MqxoDX",
      "include_colab_link": true
    },
    "kernelspec": {
      "name": "python3",
      "display_name": "Python 3"
    },
    "language_info": {
      "name": "python"
    }
  },
  "cells": [
    {
      "cell_type": "markdown",
      "metadata": {
        "id": "view-in-github",
        "colab_type": "text"
      },
      "source": [
        "<a href=\"https://colab.research.google.com/github/HafeezCodes/numpy-cost_functions-exercise-1/blob/main/numpy_cost_functions_exercise_1.ipynb\" target=\"_parent\"><img src=\"https://colab.research.google.com/assets/colab-badge.svg\" alt=\"Open In Colab\"/></a>"
      ]
    },
    {
      "cell_type": "code",
      "execution_count": 10,
      "metadata": {
        "id": "L0Vd3ZWAidGW"
      },
      "outputs": [],
      "source": [
        "import numpy as np"
      ]
    },
    {
      "cell_type": "code",
      "source": [
        "# these are two arrays of predicted and actual values of y-output label\n",
        "y_predicted = np.array([1,1,0,0,1])\n",
        "y_true = np.array([0.30,0.7,1,0,0.5])"
      ],
      "metadata": {
        "id": "ShAq5KsxioWu"
      },
      "execution_count": 11,
      "outputs": []
    },
    {
      "cell_type": "code",
      "source": [
        "# Implementong Mean Absolute Error Cost Function using numpy methods\n",
        "mean_absolute_error = np.mean(np.abs(y_predicted - y_true))\n",
        "print(mean_absolute_error)"
      ],
      "metadata": {
        "colab": {
          "base_uri": "https://localhost:8080/"
        },
        "id": "OtKbXz5Eiw89",
        "outputId": "9374c79c-4dba-4e07-ccdf-a9dc2cd5fe3a"
      },
      "execution_count": 12,
      "outputs": [
        {
          "output_type": "stream",
          "name": "stdout",
          "text": [
            "0.5\n"
          ]
        }
      ]
    },
    {
      "cell_type": "code",
      "source": [
        "# Implementing Mean Squared Error Cost Function using numpy methods\n",
        "mean_squared_error = np.mean(np.square(y_predicted - y_true))\n",
        "print(mean_squared_error)"
      ],
      "metadata": {
        "colab": {
          "base_uri": "https://localhost:8080/"
        },
        "id": "aPqyqqerjiYc",
        "outputId": "d198c91b-b1a0-4c2b-a26b-849d5f3ce6dc"
      },
      "execution_count": 13,
      "outputs": [
        {
          "output_type": "stream",
          "name": "stdout",
          "text": [
            "0.366\n"
          ]
        }
      ]
    }
  ]
}